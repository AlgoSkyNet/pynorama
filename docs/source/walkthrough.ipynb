{
 "cells": [
  {
   "cell_type": "markdown",
   "metadata": {},
   "source": [
    "## Using Pynorama"
   ]
  },
  {
   "cell_type": "markdown",
   "metadata": {},
   "source": [
    "### Defining a view"
   ]
  },
  {
   "cell_type": "markdown",
   "metadata": {},
   "source": [
    "To create a new pynorama view, we first have to derive from the View base class.\n",
    "Let's have a look at an example from the examples folder:"
   ]
  },
  {
   "cell_type": "code",
   "execution_count": 1,
   "metadata": {},
   "outputs": [],
   "source": [
    "import pandas as pd\n",
    "from nltk.corpus import reuters\n",
    "from nltk import sent_tokenize, word_tokenize\n",
    "\n",
    "from pynorama import View, make_config\n",
    "from pynorama.table import PandasTable\n",
    "from pynorama.logging import logger\n",
    "from pynorama.exceptions import RecordNotFound\n",
    "\n",
    "class ReutersView(View):\n",
    "    def __init__(self):\n",
    "        super(ReutersView, self).__init__(\n",
    "            name='reuters',\n",
    "            description='nltk\\'s reuters corpus')\n",
    "\n",
    "    def load(self):\n",
    "        logger.info('Starting processing reuters dataset.')\n",
    "        self.df = pd.DataFrame([{\n",
    "            'id': id,\n",
    "            'abspath': str(reuters.abspath(id)),\n",
    "            'categories': [c+' ' for c in reuters.categories(id)],\n",
    "            'headline': reuters.raw(id).split('\\n', 1)[0],\n",
    "            'length': len(reuters.raw(id))\n",
    "        } for id in reuters.fileids()])\n",
    "        logger.info('Finishing processing reuters dataset.')\n",
    "\n",
    "    def get_table(self):\n",
    "        return PandasTable(self.df)\n",
    "\n",
    "    def get_pipeline(self):\n",
    "        return {\n",
    "            'raw': { 'viewer': 'raw'},\n",
    "            'doctree': {'parents': ['raw'],\n",
    "                        'viewer': 'doctree'}\n",
    "        }\n",
    "\n",
    "    def get_record(self, key, stage):\n",
    "        rawdoc = reuters.raw(key)\n",
    "        if stage == 'raw':\n",
    "            return rawdoc\n",
    "        if stage == 'doctree':\n",
    "            return [word_tokenize(sent) for sent in sent_tokenize(rawdoc)]\n",
    "        raise RecordNotFound(key, stage);\n",
    "\n",
    "\n",
    "    def get_config(self):\n",
    "        return make_config('id',\n",
    "            available_transforms=[\"nans\", \"search\", \"quantile_range\"],\n",
    "            initial_visible_columns=[\"id\"])\n"
   ]
  },
  {
   "cell_type": "markdown",
   "metadata": {},
   "source": [
    "Let's step through each of the methods. [TODO: with screenshots]\n",
    "\n",
    "* `__init__` is called when you initialise your dataset and can be used for once-only initializations and assignments.\n",
    "\n",
    "* `load` should be used to load resources. It is called once upon registration and every time the *reload* button in the top left corner is clicked.\n",
    " \n",
    "* `get_table` is responsible for the contents of the table. PandasTable is a subclass of `pynorama.table.Table` and provides functionality to transform (i.e. filter) the table based on user actions. Pynorama comes with out-of-the-box for pandas DataFrames and Mongo DB collections as table. A different set of filters is available for both. The table is requested every time a user edited a filter or changed a page in the table.\n",
    " \n",
    "* `get_pipeline` defines the different stages of your pipeline, which are later rendered as a graph. You return a dictionary of stages and their coniguration, see available options [in this section](#Pipeline-definition). This function is called upon loading of the HTML and upon reload of the view.\n",
    "\n",
    "* `get_record` returns the content that will be displayed by the chosen viewer for the selected stage. Viewers expect data to be in a certain format. This function is called when a user has selected a document and a stage.\n",
    "\n",
    "* `get_config` is useful adapting the user interface in some cases without having to write Javascript. The function has to return a nested dict that is then converted to JSON and given to the user interface. `make_config` is a util function that creates this unhandy nested dictionary for some parameters. See [below](#Configuring-the-user-interface) for more information about the config. This function is called upon loading the HTML of this view. "
   ]
  },
  {
   "cell_type": "markdown",
   "metadata": {},
   "source": [
    "### Pipeline definition"
   ]
  },
  {
   "cell_type": "markdown",
   "metadata": {},
   "source": [
    "`get_pipeline` expects a dictionary defining the different stages of your pipeline, which are later rendered as a graph. For each stage name as key, the value is another dictionary with configuration options for that stage. The following options are available:\n",
    "* parents: an array of the stages that acted as input to the current stage. This will create visual connections in the graph.\n",
    "* viewer: the front-end viewer that should be used to display a record of this stage. See [below](#Viewers) for more information about viewers.\n",
    "* parameters for the selected viewer depending on the type of viewer chosen\n",
    "* color: the background color for the node in the pipeline graph\n",
    "* TODO: more options\n",
    "   "
   ]
  },
  {
   "cell_type": "markdown",
   "metadata": {},
   "source": [
    "### Viewers"
   ]
  },
  {
   "cell_type": "markdown",
   "metadata": {},
   "source": [
    "Pynorama comes with the following viewers out-of-the-box, each expecting a certain input format and some requiring additional parameters: [TODO: screenshot]\n",
    "\n",
    "* `json`: A json object inspector of the JSON-serialized record returned by `get_record`. If no viewer was given `json` is assumed.\n",
    "* `pdf`: TODO\n",
    "* `doctree`: Renders a nested tree of words.\n",
    "* `xml`: Renders an interactive tree of an xml document that was returned by `get_record` as a string.\n",
    "* `raw`: Renders a string representation of the record, while preserving whitespace and line-breaks. "
   ]
  },
  {
   "cell_type": "markdown",
   "metadata": {},
   "source": [
    "### Configuring the user interface"
   ]
  },
  {
   "cell_type": "markdown",
   "metadata": {},
   "source": [
    "### Defining a session store"
   ]
  },
  {
   "cell_type": "markdown",
   "metadata": {},
   "source": [
    "TODO: screenshot\n",
    "\n",
    "Users can store the state of the user interface in a view at any given point in sessions. Storing these is the responsibility of the session store. Pyonrama comes with out-of-the-box support for:\n",
    "\n",
    "* Transient storage (`InMemorySessionStore`)\n",
    "* JSON files (`JsonFileSessionStore`)\n",
    "* Mongo DB Collection (`MongoSessionStore`)\n",
    "\n",
    "By default, Pynorama uses the `InMemorySessionStore`, which requires no configuration. Hence, **sessions are lost** after the server is stopped. **To store sessions permanently**, supply a session store as the first argument to `make_server`.\n",
    "\n",
    "To define your own sessions store, inherit SessionStore and override `save_sessions` and `load_sessions`. You don't have worry about caching sessions in memory, as that is the SessionStore's responsibility. Have a look at the source code of the other stores to see how they work."
   ]
  },
  {
   "cell_type": "markdown",
   "metadata": {},
   "source": [
    "### Deployment"
   ]
  },
  {
   "cell_type": "markdown",
   "metadata": {},
   "source": [
    "For development, you can simply execute the python files or alternatively use the `flask run` command ([see here](http://flask.pocoo.org/docs/latest/quickstart/)). Since `make_server` just returns the flask application object, you can use all of flask's deployment options ([see here](http://flask.pocoo.org/docs/latest/deploying/))."
   ]
  },
  {
   "cell_type": "markdown",
   "metadata": {},
   "source": [
    "### Examples"
   ]
  },
  {
   "cell_type": "markdown",
   "metadata": {},
   "source": [
    "The examples folder is a great way to explore the possibilities of pynorama.\n",
    "Note that the examples have extra dependencies on:\n",
    "\n",
    "* nltk (in particular the *reuters* corpus has to be installed using `nltk.download()`)\n",
    "\n",
    "The entry point for the examples application is *server.py*. The following views are available:\n",
    "\n",
    "* reuters: example demonstrating visualization of a corpus of news data."
   ]
  },
  {
   "cell_type": "markdown",
   "metadata": {},
   "source": [
    "## Extending Pynorama"
   ]
  },
  {
   "cell_type": "markdown",
   "metadata": {},
   "source": [
    "### Setting up the Javascript development environment\n",
    "\n",
    "The Pynorama front-end is a [React](https://reactjs.org/) project and uses [Webpack](https://webpack.js.org/) to transpile and bundle the javascript. When you install python using pip only bundles and no source files are included. To develop the front-end code, you have to:\n",
    "\n",
    "* clone the git repo using `git clone https://github.com/manahl/pynorama`.\n",
    "* go to the pynorama root folder using `cd pynorama`.\n",
    "* execute `pip install -e .` to install pynorama in developer mode\n",
    "* go to the pynorama-js folder using `cd pynorama-js`.\n",
    "* execute `npm install` ([node_js](https://nodejs.org/en/) is required) to install depedencies.\n",
    "\n",
    "Now you can develop the front-end code.\n",
    "\n",
    "To debug, run `debug.sh [PORT]` in `pynorama-js`, which starts a local webpack-dev-server at the given port, transpiling the webpack bundles as you change the source files. Start your Pynorama server the usual way, but when you open your view in the browser, add the parameter webpack_dev_port=[PORT] to your url, (e.g. http://localhost:5000/view/example/?webpack_dev_port=5001). To build the bundles, use `build.sh` in `pynorama-js`. For non-unix systems or special requirements, have a look inside `debug.sh` and `build.sh`."
   ]
  },
  {
   "cell_type": "markdown",
   "metadata": {},
   "source": [
    "### Front-end project structure"
   ]
  },
  {
   "cell_type": "markdown",
   "metadata": {},
   "source": [
    "TODO"
   ]
  },
  {
   "cell_type": "markdown",
   "metadata": {},
   "source": [
    "### Table"
   ]
  },
  {
   "cell_type": "markdown",
   "metadata": {},
   "source": [
    "TODO"
   ]
  },
  {
   "cell_type": "code",
   "execution_count": null,
   "metadata": {},
   "outputs": [],
   "source": []
  }
 ],
 "metadata": {
  "kernelspec": {
   "display_name": "Python 2",
   "language": "python",
   "name": "python2"
  },
  "language_info": {
   "codemirror_mode": {
    "name": "ipython",
    "version": 2
   },
   "file_extension": ".py",
   "mimetype": "text/x-python",
   "name": "python",
   "nbconvert_exporter": "python",
   "pygments_lexer": "ipython2",
   "version": "2.7.11"
  }
 },
 "nbformat": 4,
 "nbformat_minor": 2
}
